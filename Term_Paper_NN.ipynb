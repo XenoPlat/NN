{
  "nbformat": 4,
  "nbformat_minor": 0,
  "metadata": {
    "kernelspec": {
      "display_name": "Python 3",
      "language": "python",
      "name": "python3"
    },
    "language_info": {
      "codemirror_mode": {
        "name": "ipython",
        "version": 3
      },
      "file_extension": ".py",
      "mimetype": "text/x-python",
      "name": "python",
      "nbconvert_exporter": "python",
      "pygments_lexer": "ipython3",
      "version": "3.7.6"
    },
    "colab": {
      "name": "Term_Paper_NN",
      "provenance": [],
      "collapsed_sections": []
    }
  },
  "cells": [
    {
      "cell_type": "markdown",
      "metadata": {
        "id": "vQnDWSn8TEOl",
        "colab_type": "text"
      },
      "source": [
        "# Введение в искусственные нейронные сети"
      ]
    },
    {
      "cell_type": "markdown",
      "metadata": {
        "id": "zjQWWYJpTEPy",
        "colab_type": "text"
      },
      "source": [
        "## Курсовая работа. Задание 1\n",
        "\n",
        "__Обучите нейронную сеть любой архитектуры которой не было на курсе, либо обучите нейронную сеть разобранной архитектуры, но на том датасете, которого не было на уроках. Сделайте анализ, того, что вам помогло в улучшения работы нейронной сети.__"
      ]
    },
    {
      "cell_type": "markdown",
      "metadata": {
        "id": "44nJAzdBlvXe",
        "colab_type": "text"
      },
      "source": [
        "## Будем предсказывать дневную цену закрытия акций Газпрома (тикер 'OGZPY' на OTC US) на основе 10-летнего временного ряда##"
      ]
    },
    {
      "cell_type": "code",
      "metadata": {
        "id": "jB5KuKyHoF5K",
        "colab_type": "code",
        "colab": {
          "base_uri": "https://localhost:8080/",
          "height": 89
        },
        "outputId": "177815bb-fee5-4539-8139-2023923fc256"
      },
      "source": [
        "import pandas as pd\n",
        "import numpy as np\n",
        "import pandas.util.testing as tm\n",
        "import matplotlib.pyplot as plt\n",
        "import seaborn as sns\n",
        "sns.set_style('whitegrid')\n",
        "plt.style.use(\"fivethirtyeight\")\n",
        "%matplotlib inline\n",
        "from pandas_datareader.data import DataReader\n",
        "\n",
        "from datetime import datetime\n",
        "\n",
        "from tensorflow.keras import utils\n",
        "from keras.optimizers import Adam\n",
        "from keras.models import Sequential, Model\n",
        "from keras.layers import concatenate, Input, Dense, Dropout, BatchNormalization, Flatten, Conv1D, Conv2D, LSTM\n",
        "\n",
        "from sklearn.preprocessing import StandardScaler, MinMaxScaler\n",
        "#from tensorflow.keras.callbacks import EarlyStopping\n",
        "\n",
        "from google.colab import files"
      ],
      "execution_count": 1,
      "outputs": [
        {
          "output_type": "stream",
          "text": [
            "/usr/local/lib/python3.6/dist-packages/ipykernel_launcher.py:3: FutureWarning: pandas.util.testing is deprecated. Use the functions in the public API at pandas.testing instead.\n",
            "  This is separate from the ipykernel package so we can avoid doing imports until\n",
            "Using TensorFlow backend.\n"
          ],
          "name": "stderr"
        }
      ]
    },
    {
      "cell_type": "code",
      "metadata": {
        "id": "CstJCtXJo5lr",
        "colab_type": "code",
        "colab": {
          "base_uri": "https://localhost:8080/",
          "height": 446
        },
        "outputId": "752e5134-7aa0-4124-d154-2878c14f38aa"
      },
      "source": [
        "# получение датафрейма цен на акции ГП\n",
        "df = DataReader('OGZPY', data_source='yahoo', start='2010-07-01', end=datetime.now())\n",
        "df"
      ],
      "execution_count": 2,
      "outputs": [
        {
          "output_type": "execute_result",
          "data": {
            "text/html": [
              "<div>\n",
              "<style scoped>\n",
              "    .dataframe tbody tr th:only-of-type {\n",
              "        vertical-align: middle;\n",
              "    }\n",
              "\n",
              "    .dataframe tbody tr th {\n",
              "        vertical-align: top;\n",
              "    }\n",
              "\n",
              "    .dataframe thead th {\n",
              "        text-align: right;\n",
              "    }\n",
              "</style>\n",
              "<table border=\"1\" class=\"dataframe\">\n",
              "  <thead>\n",
              "    <tr style=\"text-align: right;\">\n",
              "      <th></th>\n",
              "      <th>High</th>\n",
              "      <th>Low</th>\n",
              "      <th>Open</th>\n",
              "      <th>Close</th>\n",
              "      <th>Volume</th>\n",
              "      <th>Adj Close</th>\n",
              "    </tr>\n",
              "    <tr>\n",
              "      <th>Date</th>\n",
              "      <th></th>\n",
              "      <th></th>\n",
              "      <th></th>\n",
              "      <th></th>\n",
              "      <th></th>\n",
              "      <th></th>\n",
              "    </tr>\n",
              "  </thead>\n",
              "  <tbody>\n",
              "    <tr>\n",
              "      <th>2010-07-01</th>\n",
              "      <td>9.375</td>\n",
              "      <td>9.160</td>\n",
              "      <td>9.345</td>\n",
              "      <td>9.225</td>\n",
              "      <td>2430000.0</td>\n",
              "      <td>4.493232</td>\n",
              "    </tr>\n",
              "    <tr>\n",
              "      <th>2010-07-02</th>\n",
              "      <td>9.535</td>\n",
              "      <td>9.420</td>\n",
              "      <td>9.465</td>\n",
              "      <td>9.525</td>\n",
              "      <td>160000.0</td>\n",
              "      <td>4.639354</td>\n",
              "    </tr>\n",
              "    <tr>\n",
              "      <th>2010-07-06</th>\n",
              "      <td>9.875</td>\n",
              "      <td>9.650</td>\n",
              "      <td>9.775</td>\n",
              "      <td>9.675</td>\n",
              "      <td>487400.0</td>\n",
              "      <td>4.712414</td>\n",
              "    </tr>\n",
              "    <tr>\n",
              "      <th>2010-07-07</th>\n",
              "      <td>10.000</td>\n",
              "      <td>9.690</td>\n",
              "      <td>9.715</td>\n",
              "      <td>10.000</td>\n",
              "      <td>1300800.0</td>\n",
              "      <td>4.870713</td>\n",
              "    </tr>\n",
              "    <tr>\n",
              "      <th>2010-07-08</th>\n",
              "      <td>9.975</td>\n",
              "      <td>9.805</td>\n",
              "      <td>9.915</td>\n",
              "      <td>9.950</td>\n",
              "      <td>307800.0</td>\n",
              "      <td>4.846360</td>\n",
              "    </tr>\n",
              "    <tr>\n",
              "      <th>...</th>\n",
              "      <td>...</td>\n",
              "      <td>...</td>\n",
              "      <td>...</td>\n",
              "      <td>...</td>\n",
              "      <td>...</td>\n",
              "      <td>...</td>\n",
              "    </tr>\n",
              "    <tr>\n",
              "      <th>2020-07-20</th>\n",
              "      <td>5.250</td>\n",
              "      <td>5.200</td>\n",
              "      <td>5.210</td>\n",
              "      <td>5.250</td>\n",
              "      <td>181300.0</td>\n",
              "      <td>5.250000</td>\n",
              "    </tr>\n",
              "    <tr>\n",
              "      <th>2020-07-21</th>\n",
              "      <td>5.310</td>\n",
              "      <td>5.250</td>\n",
              "      <td>5.250</td>\n",
              "      <td>5.260</td>\n",
              "      <td>365900.0</td>\n",
              "      <td>5.260000</td>\n",
              "    </tr>\n",
              "    <tr>\n",
              "      <th>2020-07-22</th>\n",
              "      <td>5.290</td>\n",
              "      <td>5.230</td>\n",
              "      <td>5.290</td>\n",
              "      <td>5.240</td>\n",
              "      <td>180900.0</td>\n",
              "      <td>5.240000</td>\n",
              "    </tr>\n",
              "    <tr>\n",
              "      <th>2020-07-23</th>\n",
              "      <td>5.220</td>\n",
              "      <td>5.150</td>\n",
              "      <td>5.180</td>\n",
              "      <td>5.150</td>\n",
              "      <td>1760600.0</td>\n",
              "      <td>5.150000</td>\n",
              "    </tr>\n",
              "    <tr>\n",
              "      <th>2020-07-24</th>\n",
              "      <td>5.160</td>\n",
              "      <td>5.120</td>\n",
              "      <td>5.140</td>\n",
              "      <td>5.160</td>\n",
              "      <td>81800.0</td>\n",
              "      <td>5.160000</td>\n",
              "    </tr>\n",
              "  </tbody>\n",
              "</table>\n",
              "<p>2534 rows × 6 columns</p>\n",
              "</div>"
            ],
            "text/plain": [
              "              High    Low   Open   Close     Volume  Adj Close\n",
              "Date                                                          \n",
              "2010-07-01   9.375  9.160  9.345   9.225  2430000.0   4.493232\n",
              "2010-07-02   9.535  9.420  9.465   9.525   160000.0   4.639354\n",
              "2010-07-06   9.875  9.650  9.775   9.675   487400.0   4.712414\n",
              "2010-07-07  10.000  9.690  9.715  10.000  1300800.0   4.870713\n",
              "2010-07-08   9.975  9.805  9.915   9.950   307800.0   4.846360\n",
              "...            ...    ...    ...     ...        ...        ...\n",
              "2020-07-20   5.250  5.200  5.210   5.250   181300.0   5.250000\n",
              "2020-07-21   5.310  5.250  5.250   5.260   365900.0   5.260000\n",
              "2020-07-22   5.290  5.230  5.290   5.240   180900.0   5.240000\n",
              "2020-07-23   5.220  5.150  5.180   5.150  1760600.0   5.150000\n",
              "2020-07-24   5.160  5.120  5.140   5.160    81800.0   5.160000\n",
              "\n",
              "[2534 rows x 6 columns]"
            ]
          },
          "metadata": {
            "tags": []
          },
          "execution_count": 2
        }
      ]
    },
    {
      "cell_type": "code",
      "metadata": {
        "id": "P5YIEZ4gqLhx",
        "colab_type": "code",
        "colab": {
          "base_uri": "https://localhost:8080/",
          "height": 518
        },
        "outputId": "4cfdfbb8-d90e-4e43-b5e1-bc606f20d22d"
      },
      "source": [
        "plt.figure(figsize=(16,8))\n",
        "plt.title('Цена закрытия')\n",
        "plt.plot(df['Close'])\n",
        "plt.xlabel('Дата', fontsize=18)\n",
        "plt.ylabel('Цена закрытия, USD', fontsize=18)\n",
        "plt.show()"
      ],
      "execution_count": 3,
      "outputs": [
        {
          "output_type": "display_data",
          "data": {
            "image/png": "[encoded data removed]",
            "text/plain": [
              "<Figure size 1152x576 with 1 Axes>"
            ]
          },
          "metadata": {
            "tags": [],
            "needs_background": "light"
          }
        }
      ]
    },
    {
      "cell_type": "code",
      "metadata": {
        "id": "Qx1qJjfiq9d8",
        "colab_type": "code",
        "colab": {
          "base_uri": "https://localhost:8080/",
          "height": 35
        },
        "outputId": "7e75faed-10b3-4445-a409-aec7a82b4c43"
      },
      "source": [
        "# Создаем новый df, оставляя только колонку close/закрытие\n",
        "data = df.filter(['Close'])\n",
        "\n",
        "# конвертация df в массив numpy\n",
        "dataset = data.values\n",
        "\n",
        "# выпиливыем тренировочный датасет\n",
        "training_data_len = int(np.ceil( len(dataset) * .8 ))\n",
        "\n",
        "training_data_len"
      ],
      "execution_count": 4,
      "outputs": [
        {
          "output_type": "execute_result",
          "data": {
            "text/plain": [
              "2028"
            ]
          },
          "metadata": {
            "tags": []
          },
          "execution_count": 4
        }
      ]
    },
    {
      "cell_type": "code",
      "metadata": {
        "id": "7Ep7VxF3s6s7",
        "colab_type": "code",
        "colab": {
          "base_uri": "https://localhost:8080/",
          "height": 139
        },
        "outputId": "69ecaf6f-c37f-4628-f056-54f2b38488d8"
      },
      "source": [
        "# нормализация данных, чтобы градиент не свихнулся по дороге к успеху\n",
        "\n",
        "scaler = MinMaxScaler(feature_range=(0,1))\n",
        "scaled_data = scaler.fit_transform(dataset)\n",
        "\n",
        "scaled_data"
      ],
      "execution_count": 5,
      "outputs": [
        {
          "output_type": "execute_result",
          "data": {
            "text/plain": [
              "array([[0.42991636],\n",
              "       [0.45083681],\n",
              "       [0.4612971 ],\n",
              "       ...,\n",
              "       [0.15202231],\n",
              "       [0.14574618],\n",
              "       [0.14644351]])"
            ]
          },
          "metadata": {
            "tags": []
          },
          "execution_count": 5
        }
      ]
    },
    {
      "cell_type": "code",
      "metadata": {
        "id": "iBL1xNkmtWmg",
        "colab_type": "code",
        "colab": {
          "base_uri": "https://localhost:8080/",
          "height": 1000
        },
        "outputId": "8195575d-bcd1-45f5-f810-ddd048a0b0e7"
      },
      "source": [
        "# нормализация тренировочного датасета\n",
        "\n",
        "train_data = scaled_data[0:int(training_data_len), :]\n",
        "\n",
        "x_train = []\n",
        "y_train = []\n",
        "\n",
        "for i in range(60, len(train_data)):\n",
        "    x_train.append(train_data[i-60:i, 0])\n",
        "    y_train.append(train_data[i, 0])\n",
        "    if i<= 66:\n",
        "        print(x_train)\n",
        "        print(y_train)\n",
        "        print()"
      ],
      "execution_count": 6,
      "outputs": [
        {
          "output_type": "stream",
          "text": [
            "[array([0.42991636, 0.45083681, 0.4612971 , 0.48396096, 0.4804742 ,\n",
            "       0.48919108, 0.49093449, 0.51708512, 0.50662483, 0.5153417 ,\n",
            "       0.48744773, 0.50139472, 0.50662483, 0.50418411, 0.53103211,\n",
            "       0.53103211, 0.53626222, 0.54532778, 0.53242677, 0.54672244,\n",
            "       0.53974898, 0.57496517, 0.56729428, 0.57461649, 0.56450488,\n",
            "       0.56764296, 0.5770572 , 0.56938638, 0.525802  , 0.52440726,\n",
            "       0.51952583, 0.53103211, 0.53556485, 0.53626222, 0.52196655,\n",
            "       0.51011159, 0.50557885, 0.4961646 , 0.49442119, 0.49790795,\n",
            "       0.51115764, 0.50313806, 0.49965137, 0.52231523, 0.52894008,\n",
            "       0.52510463, 0.51708512, 0.52510463, 0.53242677, 0.53172947,\n",
            "       0.53417019, 0.52405858, 0.525802  , 0.5153417 , 0.51185494,\n",
            "       0.5237099 , 0.51882847, 0.50627614, 0.49721059, 0.50418411])]\n",
            "[0.5031380640790015]\n",
            "\n",
            "[array([0.42991636, 0.45083681, 0.4612971 , 0.48396096, 0.4804742 ,\n",
            "       0.48919108, 0.49093449, 0.51708512, 0.50662483, 0.5153417 ,\n",
            "       0.48744773, 0.50139472, 0.50662483, 0.50418411, 0.53103211,\n",
            "       0.53103211, 0.53626222, 0.54532778, 0.53242677, 0.54672244,\n",
            "       0.53974898, 0.57496517, 0.56729428, 0.57461649, 0.56450488,\n",
            "       0.56764296, 0.5770572 , 0.56938638, 0.525802  , 0.52440726,\n",
            "       0.51952583, 0.53103211, 0.53556485, 0.53626222, 0.52196655,\n",
            "       0.51011159, 0.50557885, 0.4961646 , 0.49442119, 0.49790795,\n",
            "       0.51115764, 0.50313806, 0.49965137, 0.52231523, 0.52894008,\n",
            "       0.52510463, 0.51708512, 0.52510463, 0.53242677, 0.53172947,\n",
            "       0.53417019, 0.52405858, 0.525802  , 0.5153417 , 0.51185494,\n",
            "       0.5237099 , 0.51882847, 0.50627614, 0.49721059, 0.50418411]), array([0.45083681, 0.4612971 , 0.48396096, 0.4804742 , 0.48919108,\n",
            "       0.49093449, 0.51708512, 0.50662483, 0.5153417 , 0.48744773,\n",
            "       0.50139472, 0.50662483, 0.50418411, 0.53103211, 0.53103211,\n",
            "       0.53626222, 0.54532778, 0.53242677, 0.54672244, 0.53974898,\n",
            "       0.57496517, 0.56729428, 0.57461649, 0.56450488, 0.56764296,\n",
            "       0.5770572 , 0.56938638, 0.525802  , 0.52440726, 0.51952583,\n",
            "       0.53103211, 0.53556485, 0.53626222, 0.52196655, 0.51011159,\n",
            "       0.50557885, 0.4961646 , 0.49442119, 0.49790795, 0.51115764,\n",
            "       0.50313806, 0.49965137, 0.52231523, 0.52894008, 0.52510463,\n",
            "       0.51708512, 0.52510463, 0.53242677, 0.53172947, 0.53417019,\n",
            "       0.52405858, 0.525802  , 0.5153417 , 0.51185494, 0.5237099 ,\n",
            "       0.51882847, 0.50627614, 0.49721059, 0.50418411, 0.50313806])]\n",
            "[0.5031380640790015, 0.5045327961721613]\n",
            "\n",
            "[array([0.42991636, 0.45083681, 0.4612971 , 0.48396096, 0.4804742 ,\n",
            "       0.48919108, 0.49093449, 0.51708512, 0.50662483, 0.5153417 ,\n",
            "       0.48744773, 0.50139472, 0.50662483, 0.50418411, 0.53103211,\n",
            "       0.53103211, 0.53626222, 0.54532778, 0.53242677, 0.54672244,\n",
            "       0.53974898, 0.57496517, 0.56729428, 0.57461649, 0.56450488,\n",
            "       0.56764296, 0.5770572 , 0.56938638, 0.525802  , 0.52440726,\n",
            "       0.51952583, 0.53103211, 0.53556485, 0.53626222, 0.52196655,\n",
            "       0.51011159, 0.50557885, 0.4961646 , 0.49442119, 0.49790795,\n",
            "       0.51115764, 0.50313806, 0.49965137, 0.52231523, 0.52894008,\n",
            "       0.52510463, 0.51708512, 0.52510463, 0.53242677, 0.53172947,\n",
            "       0.53417019, 0.52405858, 0.525802  , 0.5153417 , 0.51185494,\n",
            "       0.5237099 , 0.51882847, 0.50627614, 0.49721059, 0.50418411]), array([0.45083681, 0.4612971 , 0.48396096, 0.4804742 , 0.48919108,\n",
            "       0.49093449, 0.51708512, 0.50662483, 0.5153417 , 0.48744773,\n",
            "       0.50139472, 0.50662483, 0.50418411, 0.53103211, 0.53103211,\n",
            "       0.53626222, 0.54532778, 0.53242677, 0.54672244, 0.53974898,\n",
            "       0.57496517, 0.56729428, 0.57461649, 0.56450488, 0.56764296,\n",
            "       0.5770572 , 0.56938638, 0.525802  , 0.52440726, 0.51952583,\n",
            "       0.53103211, 0.53556485, 0.53626222, 0.52196655, 0.51011159,\n",
            "       0.50557885, 0.4961646 , 0.49442119, 0.49790795, 0.51115764,\n",
            "       0.50313806, 0.49965137, 0.52231523, 0.52894008, 0.52510463,\n",
            "       0.51708512, 0.52510463, 0.53242677, 0.53172947, 0.53417019,\n",
            "       0.52405858, 0.525802  , 0.5153417 , 0.51185494, 0.5237099 ,\n",
            "       0.51882847, 0.50627614, 0.49721059, 0.50418411, 0.50313806]), array([0.4612971 , 0.48396096, 0.4804742 , 0.48919108, 0.49093449,\n",
            "       0.51708512, 0.50662483, 0.5153417 , 0.48744773, 0.50139472,\n",
            "       0.50662483, 0.50418411, 0.53103211, 0.53103211, 0.53626222,\n",
            "       0.54532778, 0.53242677, 0.54672244, 0.53974898, 0.57496517,\n",
            "       0.56729428, 0.57461649, 0.56450488, 0.56764296, 0.5770572 ,\n",
            "       0.56938638, 0.525802  , 0.52440726, 0.51952583, 0.53103211,\n",
            "       0.53556485, 0.53626222, 0.52196655, 0.51011159, 0.50557885,\n",
            "       0.4961646 , 0.49442119, 0.49790795, 0.51115764, 0.50313806,\n",
            "       0.49965137, 0.52231523, 0.52894008, 0.52510463, 0.51708512,\n",
            "       0.52510463, 0.53242677, 0.53172947, 0.53417019, 0.52405858,\n",
            "       0.525802  , 0.5153417 , 0.51185494, 0.5237099 , 0.51882847,\n",
            "       0.50627614, 0.49721059, 0.50418411, 0.50313806, 0.5045328 ])]\n",
            "[0.5031380640790015, 0.5045327961721613, 0.5101115915358276]\n",
            "\n",
            "[array([0.42991636, 0.45083681, 0.4612971 , 0.48396096, 0.4804742 ,\n",
            "       0.48919108, 0.49093449, 0.51708512, 0.50662483, 0.5153417 ,\n",
            "       0.48744773, 0.50139472, 0.50662483, 0.50418411, 0.53103211,\n",
            "       0.53103211, 0.53626222, 0.54532778, 0.53242677, 0.54672244,\n",
            "       0.53974898, 0.57496517, 0.56729428, 0.57461649, 0.56450488,\n",
            "       0.56764296, 0.5770572 , 0.56938638, 0.525802  , 0.52440726,\n",
            "       0.51952583, 0.53103211, 0.53556485, 0.53626222, 0.52196655,\n",
            "       0.51011159, 0.50557885, 0.4961646 , 0.49442119, 0.49790795,\n",
            "       0.51115764, 0.50313806, 0.49965137, 0.52231523, 0.52894008,\n",
            "       0.52510463, 0.51708512, 0.52510463, 0.53242677, 0.53172947,\n",
            "       0.53417019, 0.52405858, 0.525802  , 0.5153417 , 0.51185494,\n",
            "       0.5237099 , 0.51882847, 0.50627614, 0.49721059, 0.50418411]), array([0.45083681, 0.4612971 , 0.48396096, 0.4804742 , 0.48919108,\n",
            "       0.49093449, 0.51708512, 0.50662483, 0.5153417 , 0.48744773,\n",
            "       0.50139472, 0.50662483, 0.50418411, 0.53103211, 0.53103211,\n",
            "       0.53626222, 0.54532778, 0.53242677, 0.54672244, 0.53974898,\n",
            "       0.57496517, 0.56729428, 0.57461649, 0.56450488, 0.56764296,\n",
            "       0.5770572 , 0.56938638, 0.525802  , 0.52440726, 0.51952583,\n",
            "       0.53103211, 0.53556485, 0.53626222, 0.52196655, 0.51011159,\n",
            "       0.50557885, 0.4961646 , 0.49442119, 0.49790795, 0.51115764,\n",
            "       0.50313806, 0.49965137, 0.52231523, 0.52894008, 0.52510463,\n",
            "       0.51708512, 0.52510463, 0.53242677, 0.53172947, 0.53417019,\n",
            "       0.52405858, 0.525802  , 0.5153417 , 0.51185494, 0.5237099 ,\n",
            "       0.51882847, 0.50627614, 0.49721059, 0.50418411, 0.50313806]), array([0.4612971 , 0.48396096, 0.4804742 , 0.48919108, 0.49093449,\n",
            "       0.51708512, 0.50662483, 0.5153417 , 0.48744773, 0.50139472,\n",
            "       0.50662483, 0.50418411, 0.53103211, 0.53103211, 0.53626222,\n",
            "       0.54532778, 0.53242677, 0.54672244, 0.53974898, 0.57496517,\n",
            "       0.56729428, 0.57461649, 0.56450488, 0.56764296, 0.5770572 ,\n",
            "       0.56938638, 0.525802  , 0.52440726, 0.51952583, 0.53103211,\n",
            "       0.53556485, 0.53626222, 0.52196655, 0.51011159, 0.50557885,\n",
            "       0.4961646 , 0.49442119, 0.49790795, 0.51115764, 0.50313806,\n",
            "       0.49965137, 0.52231523, 0.52894008, 0.52510463, 0.51708512,\n",
            "       0.52510463, 0.53242677, 0.53172947, 0.53417019, 0.52405858,\n",
            "       0.525802  , 0.5153417 , 0.51185494, 0.5237099 , 0.51882847,\n",
            "       0.50627614, 0.49721059, 0.50418411, 0.50313806, 0.5045328 ]), array([0.48396096, 0.4804742 , 0.48919108, 0.49093449, 0.51708512,\n",
            "       0.50662483, 0.5153417 , 0.48744773, 0.50139472, 0.50662483,\n",
            "       0.50418411, 0.53103211, 0.53103211, 0.53626222, 0.54532778,\n",
            "       0.53242677, 0.54672244, 0.53974898, 0.57496517, 0.56729428,\n",
            "       0.57461649, 0.56450488, 0.56764296, 0.5770572 , 0.56938638,\n",
            "       0.525802  , 0.52440726, 0.51952583, 0.53103211, 0.53556485,\n",
            "       0.53626222, 0.52196655, 0.51011159, 0.50557885, 0.4961646 ,\n",
            "       0.49442119, 0.49790795, 0.51115764, 0.50313806, 0.49965137,\n",
            "       0.52231523, 0.52894008, 0.52510463, 0.51708512, 0.52510463,\n",
            "       0.53242677, 0.53172947, 0.53417019, 0.52405858, 0.525802  ,\n",
            "       0.5153417 , 0.51185494, 0.5237099 , 0.51882847, 0.50627614,\n",
            "       0.49721059, 0.50418411, 0.50313806, 0.5045328 , 0.51011159])]\n",
            "[0.5031380640790015, 0.5045327961721613, 0.5101115915358276, 0.517085118992654]\n",
            "\n",
            "[array([0.42991636, 0.45083681, 0.4612971 , 0.48396096, 0.4804742 ,\n",
            "       0.48919108, 0.49093449, 0.51708512, 0.50662483, 0.5153417 ,\n",
            "       0.48744773, 0.50139472, 0.50662483, 0.50418411, 0.53103211,\n",
            "       0.53103211, 0.53626222, 0.54532778, 0.53242677, 0.54672244,\n",
            "       0.53974898, 0.57496517, 0.56729428, 0.57461649, 0.56450488,\n",
            "       0.56764296, 0.5770572 , 0.56938638, 0.525802  , 0.52440726,\n",
            "       0.51952583, 0.53103211, 0.53556485, 0.53626222, 0.52196655,\n",
            "       0.51011159, 0.50557885, 0.4961646 , 0.49442119, 0.49790795,\n",
            "       0.51115764, 0.50313806, 0.49965137, 0.52231523, 0.52894008,\n",
            "       0.52510463, 0.51708512, 0.52510463, 0.53242677, 0.53172947,\n",
            "       0.53417019, 0.52405858, 0.525802  , 0.5153417 , 0.51185494,\n",
            "       0.5237099 , 0.51882847, 0.50627614, 0.49721059, 0.50418411]), array([0.45083681, 0.4612971 , 0.48396096, 0.4804742 , 0.48919108,\n",
            "       0.49093449, 0.51708512, 0.50662483, 0.5153417 , 0.48744773,\n",
            "       0.50139472, 0.50662483, 0.50418411, 0.53103211, 0.53103211,\n",
            "       0.53626222, 0.54532778, 0.53242677, 0.54672244, 0.53974898,\n",
            "       0.57496517, 0.56729428, 0.57461649, 0.56450488, 0.56764296,\n",
            "       0.5770572 , 0.56938638, 0.525802  , 0.52440726, 0.51952583,\n",
            "       0.53103211, 0.53556485, 0.53626222, 0.52196655, 0.51011159,\n",
            "       0.50557885, 0.4961646 , 0.49442119, 0.49790795, 0.51115764,\n",
            "       0.50313806, 0.49965137, 0.52231523, 0.52894008, 0.52510463,\n",
            "       0.51708512, 0.52510463, 0.53242677, 0.53172947, 0.53417019,\n",
            "       0.52405858, 0.525802  , 0.5153417 , 0.51185494, 0.5237099 ,\n",
            "       0.51882847, 0.50627614, 0.49721059, 0.50418411, 0.50313806]), array([0.4612971 , 0.48396096, 0.4804742 , 0.48919108, 0.49093449,\n",
            "       0.51708512, 0.50662483, 0.5153417 , 0.48744773, 0.50139472,\n",
            "       0.50662483, 0.50418411, 0.53103211, 0.53103211, 0.53626222,\n",
            "       0.54532778, 0.53242677, 0.54672244, 0.53974898, 0.57496517,\n",
            "       0.56729428, 0.57461649, 0.56450488, 0.56764296, 0.5770572 ,\n",
            "       0.56938638, 0.525802  , 0.52440726, 0.51952583, 0.53103211,\n",
            "       0.53556485, 0.53626222, 0.52196655, 0.51011159, 0.50557885,\n",
            "       0.4961646 , 0.49442119, 0.49790795, 0.51115764, 0.50313806,\n",
            "       0.49965137, 0.52231523, 0.52894008, 0.52510463, 0.51708512,\n",
            "       0.52510463, 0.53242677, 0.53172947, 0.53417019, 0.52405858,\n",
            "       0.525802  , 0.5153417 , 0.51185494, 0.5237099 , 0.51882847,\n",
            "       0.50627614, 0.49721059, 0.50418411, 0.50313806, 0.5045328 ]), array([0.48396096, 0.4804742 , 0.48919108, 0.49093449, 0.51708512,\n",
            "       0.50662483, 0.5153417 , 0.48744773, 0.50139472, 0.50662483,\n",
            "       0.50418411, 0.53103211, 0.53103211, 0.53626222, 0.54532778,\n",
            "       0.53242677, 0.54672244, 0.53974898, 0.57496517, 0.56729428,\n",
            "       0.57461649, 0.56450488, 0.56764296, 0.5770572 , 0.56938638,\n",
            "       0.525802  , 0.52440726, 0.51952583, 0.53103211, 0.53556485,\n",
            "       0.53626222, 0.52196655, 0.51011159, 0.50557885, 0.4961646 ,\n",
            "       0.49442119, 0.49790795, 0.51115764, 0.50313806, 0.49965137,\n",
            "       0.52231523, 0.52894008, 0.52510463, 0.51708512, 0.52510463,\n",
            "       0.53242677, 0.53172947, 0.53417019, 0.52405858, 0.525802  ,\n",
            "       0.5153417 , 0.51185494, 0.5237099 , 0.51882847, 0.50627614,\n",
            "       0.49721059, 0.50418411, 0.50313806, 0.5045328 , 0.51011159]), array([0.4804742 , 0.48919108, 0.49093449, 0.51708512, 0.50662483,\n",
            "       0.5153417 , 0.48744773, 0.50139472, 0.50662483, 0.50418411,\n",
            "       0.53103211, 0.53103211, 0.53626222, 0.54532778, 0.53242677,\n",
            "       0.54672244, 0.53974898, 0.57496517, 0.56729428, 0.57461649,\n",
            "       0.56450488, 0.56764296, 0.5770572 , 0.56938638, 0.525802  ,\n",
            "       0.52440726, 0.51952583, 0.53103211, 0.53556485, 0.53626222,\n",
            "       0.52196655, 0.51011159, 0.50557885, 0.4961646 , 0.49442119,\n",
            "       0.49790795, 0.51115764, 0.50313806, 0.49965137, 0.52231523,\n",
            "       0.52894008, 0.52510463, 0.51708512, 0.52510463, 0.53242677,\n",
            "       0.53172947, 0.53417019, 0.52405858, 0.525802  , 0.5153417 ,\n",
            "       0.51185494, 0.5237099 , 0.51882847, 0.50627614, 0.49721059,\n",
            "       0.50418411, 0.50313806, 0.5045328 , 0.51011159, 0.51708512])]\n",
            "[0.5031380640790015, 0.5045327961721613, 0.5101115915358276, 0.517085118992654, 0.5240585799449935]\n",
            "\n",
            "[array([0.42991636, 0.45083681, 0.4612971 , 0.48396096, 0.4804742 ,\n",
            "       0.48919108, 0.49093449, 0.51708512, 0.50662483, 0.5153417 ,\n",
            "       0.48744773, 0.50139472, 0.50662483, 0.50418411, 0.53103211,\n",
            "       0.53103211, 0.53626222, 0.54532778, 0.53242677, 0.54672244,\n",
            "       0.53974898, 0.57496517, 0.56729428, 0.57461649, 0.56450488,\n",
            "       0.56764296, 0.5770572 , 0.56938638, 0.525802  , 0.52440726,\n",
            "       0.51952583, 0.53103211, 0.53556485, 0.53626222, 0.52196655,\n",
            "       0.51011159, 0.50557885, 0.4961646 , 0.49442119, 0.49790795,\n",
            "       0.51115764, 0.50313806, 0.49965137, 0.52231523, 0.52894008,\n",
            "       0.52510463, 0.51708512, 0.52510463, 0.53242677, 0.53172947,\n",
            "       0.53417019, 0.52405858, 0.525802  , 0.5153417 , 0.51185494,\n",
            "       0.5237099 , 0.51882847, 0.50627614, 0.49721059, 0.50418411]), array([0.45083681, 0.4612971 , 0.48396096, 0.4804742 , 0.48919108,\n",
            "       0.49093449, 0.51708512, 0.50662483, 0.5153417 , 0.48744773,\n",
            "       0.50139472, 0.50662483, 0.50418411, 0.53103211, 0.53103211,\n",
            "       0.53626222, 0.54532778, 0.53242677, 0.54672244, 0.53974898,\n",
            "       0.57496517, 0.56729428, 0.57461649, 0.56450488, 0.56764296,\n",
            "       0.5770572 , 0.56938638, 0.525802  , 0.52440726, 0.51952583,\n",
            "       0.53103211, 0.53556485, 0.53626222, 0.52196655, 0.51011159,\n",
            "       0.50557885, 0.4961646 , 0.49442119, 0.49790795, 0.51115764,\n",
            "       0.50313806, 0.49965137, 0.52231523, 0.52894008, 0.52510463,\n",
            "       0.51708512, 0.52510463, 0.53242677, 0.53172947, 0.53417019,\n",
            "       0.52405858, 0.525802  , 0.5153417 , 0.51185494, 0.5237099 ,\n",
            "       0.51882847, 0.50627614, 0.49721059, 0.50418411, 0.50313806]), array([0.4612971 , 0.48396096, 0.4804742 , 0.48919108, 0.49093449,\n",
            "       0.51708512, 0.50662483, 0.5153417 , 0.48744773, 0.50139472,\n",
            "       0.50662483, 0.50418411, 0.53103211, 0.53103211, 0.53626222,\n",
            "       0.54532778, 0.53242677, 0.54672244, 0.53974898, 0.57496517,\n",
            "       0.56729428, 0.57461649, 0.56450488, 0.56764296, 0.5770572 ,\n",
            "       0.56938638, 0.525802  , 0.52440726, 0.51952583, 0.53103211,\n",
            "       0.53556485, 0.53626222, 0.52196655, 0.51011159, 0.50557885,\n",
            "       0.4961646 , 0.49442119, 0.49790795, 0.51115764, 0.50313806,\n",
            "       0.49965137, 0.52231523, 0.52894008, 0.52510463, 0.51708512,\n",
            "       0.52510463, 0.53242677, 0.53172947, 0.53417019, 0.52405858,\n",
            "       0.525802  , 0.5153417 , 0.51185494, 0.5237099 , 0.51882847,\n",
            "       0.50627614, 0.49721059, 0.50418411, 0.50313806, 0.5045328 ]), array([0.48396096, 0.4804742 , 0.48919108, 0.49093449, 0.51708512,\n",
            "       0.50662483, 0.5153417 , 0.48744773, 0.50139472, 0.50662483,\n",
            "       0.50418411, 0.53103211, 0.53103211, 0.53626222, 0.54532778,\n",
            "       0.53242677, 0.54672244, 0.53974898, 0.57496517, 0.56729428,\n",
            "       0.57461649, 0.56450488, 0.56764296, 0.5770572 , 0.56938638,\n",
            "       0.525802  , 0.52440726, 0.51952583, 0.53103211, 0.53556485,\n",
            "       0.53626222, 0.52196655, 0.51011159, 0.50557885, 0.4961646 ,\n",
            "       0.49442119, 0.49790795, 0.51115764, 0.50313806, 0.49965137,\n",
            "       0.52231523, 0.52894008, 0.52510463, 0.51708512, 0.52510463,\n",
            "       0.53242677, 0.53172947, 0.53417019, 0.52405858, 0.525802  ,\n",
            "       0.5153417 , 0.51185494, 0.5237099 , 0.51882847, 0.50627614,\n",
            "       0.49721059, 0.50418411, 0.50313806, 0.5045328 , 0.51011159]), array([0.4804742 , 0.48919108, 0.49093449, 0.51708512, 0.50662483,\n",
            "       0.5153417 , 0.48744773, 0.50139472, 0.50662483, 0.50418411,\n",
            "       0.53103211, 0.53103211, 0.53626222, 0.54532778, 0.53242677,\n",
            "       0.54672244, 0.53974898, 0.57496517, 0.56729428, 0.57461649,\n",
            "       0.56450488, 0.56764296, 0.5770572 , 0.56938638, 0.525802  ,\n",
            "       0.52440726, 0.51952583, 0.53103211, 0.53556485, 0.53626222,\n",
            "       0.52196655, 0.51011159, 0.50557885, 0.4961646 , 0.49442119,\n",
            "       0.49790795, 0.51115764, 0.50313806, 0.49965137, 0.52231523,\n",
            "       0.52894008, 0.52510463, 0.51708512, 0.52510463, 0.53242677,\n",
            "       0.53172947, 0.53417019, 0.52405858, 0.525802  , 0.5153417 ,\n",
            "       0.51185494, 0.5237099 , 0.51882847, 0.50627614, 0.49721059,\n",
            "       0.50418411, 0.50313806, 0.5045328 , 0.51011159, 0.51708512]), array([0.48919108, 0.49093449, 0.51708512, 0.50662483, 0.5153417 ,\n",
            "       0.48744773, 0.50139472, 0.50662483, 0.50418411, 0.53103211,\n",
            "       0.53103211, 0.53626222, 0.54532778, 0.53242677, 0.54672244,\n",
            "       0.53974898, 0.57496517, 0.56729428, 0.57461649, 0.56450488,\n",
            "       0.56764296, 0.5770572 , 0.56938638, 0.525802  , 0.52440726,\n",
            "       0.51952583, 0.53103211, 0.53556485, 0.53626222, 0.52196655,\n",
            "       0.51011159, 0.50557885, 0.4961646 , 0.49442119, 0.49790795,\n",
            "       0.51115764, 0.50313806, 0.49965137, 0.52231523, 0.52894008,\n",
            "       0.52510463, 0.51708512, 0.52510463, 0.53242677, 0.53172947,\n",
            "       0.53417019, 0.52405858, 0.525802  , 0.5153417 , 0.51185494,\n",
            "       0.5237099 , 0.51882847, 0.50627614, 0.49721059, 0.50418411,\n",
            "       0.50313806, 0.5045328 , 0.51011159, 0.51708512, 0.52405858])]\n",
            "[0.5031380640790015, 0.5045327961721613, 0.5101115915358276, 0.517085118992654, 0.5240585799449935, 0.5271966606501166]\n",
            "\n",
            "[array([0.42991636, 0.45083681, 0.4612971 , 0.48396096, 0.4804742 ,\n",
            "       0.48919108, 0.49093449, 0.51708512, 0.50662483, 0.5153417 ,\n",
            "       0.48744773, 0.50139472, 0.50662483, 0.50418411, 0.53103211,\n",
            "       0.53103211, 0.53626222, 0.54532778, 0.53242677, 0.54672244,\n",
            "       0.53974898, 0.57496517, 0.56729428, 0.57461649, 0.56450488,\n",
            "       0.56764296, 0.5770572 , 0.56938638, 0.525802  , 0.52440726,\n",
            "       0.51952583, 0.53103211, 0.53556485, 0.53626222, 0.52196655,\n",
            "       0.51011159, 0.50557885, 0.4961646 , 0.49442119, 0.49790795,\n",
            "       0.51115764, 0.50313806, 0.49965137, 0.52231523, 0.52894008,\n",
            "       0.52510463, 0.51708512, 0.52510463, 0.53242677, 0.53172947,\n",
            "       0.53417019, 0.52405858, 0.525802  , 0.5153417 , 0.51185494,\n",
            "       0.5237099 , 0.51882847, 0.50627614, 0.49721059, 0.50418411]), array([0.45083681, 0.4612971 , 0.48396096, 0.4804742 , 0.48919108,\n",
            "       0.49093449, 0.51708512, 0.50662483, 0.5153417 , 0.48744773,\n",
            "       0.50139472, 0.50662483, 0.50418411, 0.53103211, 0.53103211,\n",
            "       0.53626222, 0.54532778, 0.53242677, 0.54672244, 0.53974898,\n",
            "       0.57496517, 0.56729428, 0.57461649, 0.56450488, 0.56764296,\n",
            "       0.5770572 , 0.56938638, 0.525802  , 0.52440726, 0.51952583,\n",
            "       0.53103211, 0.53556485, 0.53626222, 0.52196655, 0.51011159,\n",
            "       0.50557885, 0.4961646 , 0.49442119, 0.49790795, 0.51115764,\n",
            "       0.50313806, 0.49965137, 0.52231523, 0.52894008, 0.52510463,\n",
            "       0.51708512, 0.52510463, 0.53242677, 0.53172947, 0.53417019,\n",
            "       0.52405858, 0.525802  , 0.5153417 , 0.51185494, 0.5237099 ,\n",
            "       0.51882847, 0.50627614, 0.49721059, 0.50418411, 0.50313806]), array([0.4612971 , 0.48396096, 0.4804742 , 0.48919108, 0.49093449,\n",
            "       0.51708512, 0.50662483, 0.5153417 , 0.48744773, 0.50139472,\n",
            "       0.50662483, 0.50418411, 0.53103211, 0.53103211, 0.53626222,\n",
            "       0.54532778, 0.53242677, 0.54672244, 0.53974898, 0.57496517,\n",
            "       0.56729428, 0.57461649, 0.56450488, 0.56764296, 0.5770572 ,\n",
            "       0.56938638, 0.525802  , 0.52440726, 0.51952583, 0.53103211,\n",
            "       0.53556485, 0.53626222, 0.52196655, 0.51011159, 0.50557885,\n",
            "       0.4961646 , 0.49442119, 0.49790795, 0.51115764, 0.50313806,\n",
            "       0.49965137, 0.52231523, 0.52894008, 0.52510463, 0.51708512,\n",
            "       0.52510463, 0.53242677, 0.53172947, 0.53417019, 0.52405858,\n",
            "       0.525802  , 0.5153417 , 0.51185494, 0.5237099 , 0.51882847,\n",
            "       0.50627614, 0.49721059, 0.50418411, 0.50313806, 0.5045328 ]), array([0.48396096, 0.4804742 , 0.48919108, 0.49093449, 0.51708512,\n",
            "       0.50662483, 0.5153417 , 0.48744773, 0.50139472, 0.50662483,\n",
            "       0.50418411, 0.53103211, 0.53103211, 0.53626222, 0.54532778,\n",
            "       0.53242677, 0.54672244, 0.53974898, 0.57496517, 0.56729428,\n",
            "       0.57461649, 0.56450488, 0.56764296, 0.5770572 , 0.56938638,\n",
            "       0.525802  , 0.52440726, 0.51952583, 0.53103211, 0.53556485,\n",
            "       0.53626222, 0.52196655, 0.51011159, 0.50557885, 0.4961646 ,\n",
            "       0.49442119, 0.49790795, 0.51115764, 0.50313806, 0.49965137,\n",
            "       0.52231523, 0.52894008, 0.52510463, 0.51708512, 0.52510463,\n",
            "       0.53242677, 0.53172947, 0.53417019, 0.52405858, 0.525802  ,\n",
            "       0.5153417 , 0.51185494, 0.5237099 , 0.51882847, 0.50627614,\n",
            "       0.49721059, 0.50418411, 0.50313806, 0.5045328 , 0.51011159]), array([0.4804742 , 0.48919108, 0.49093449, 0.51708512, 0.50662483,\n",
            "       0.5153417 , 0.48744773, 0.50139472, 0.50662483, 0.50418411,\n",
            "       0.53103211, 0.53103211, 0.53626222, 0.54532778, 0.53242677,\n",
            "       0.54672244, 0.53974898, 0.57496517, 0.56729428, 0.57461649,\n",
            "       0.56450488, 0.56764296, 0.5770572 , 0.56938638, 0.525802  ,\n",
            "       0.52440726, 0.51952583, 0.53103211, 0.53556485, 0.53626222,\n",
            "       0.52196655, 0.51011159, 0.50557885, 0.4961646 , 0.49442119,\n",
            "       0.49790795, 0.51115764, 0.50313806, 0.49965137, 0.52231523,\n",
            "       0.52894008, 0.52510463, 0.51708512, 0.52510463, 0.53242677,\n",
            "       0.53172947, 0.53417019, 0.52405858, 0.525802  , 0.5153417 ,\n",
            "       0.51185494, 0.5237099 , 0.51882847, 0.50627614, 0.49721059,\n",
            "       0.50418411, 0.50313806, 0.5045328 , 0.51011159, 0.51708512]), array([0.48919108, 0.49093449, 0.51708512, 0.50662483, 0.5153417 ,\n",
            "       0.48744773, 0.50139472, 0.50662483, 0.50418411, 0.53103211,\n",
            "       0.53103211, 0.53626222, 0.54532778, 0.53242677, 0.54672244,\n",
            "       0.53974898, 0.57496517, 0.56729428, 0.57461649, 0.56450488,\n",
            "       0.56764296, 0.5770572 , 0.56938638, 0.525802  , 0.52440726,\n",
            "       0.51952583, 0.53103211, 0.53556485, 0.53626222, 0.52196655,\n",
            "       0.51011159, 0.50557885, 0.4961646 , 0.49442119, 0.49790795,\n",
            "       0.51115764, 0.50313806, 0.49965137, 0.52231523, 0.52894008,\n",
            "       0.52510463, 0.51708512, 0.52510463, 0.53242677, 0.53172947,\n",
            "       0.53417019, 0.52405858, 0.525802  , 0.5153417 , 0.51185494,\n",
            "       0.5237099 , 0.51882847, 0.50627614, 0.49721059, 0.50418411,\n",
            "       0.50313806, 0.5045328 , 0.51011159, 0.51708512, 0.52405858]), array([0.49093449, 0.51708512, 0.50662483, 0.5153417 , 0.48744773,\n",
            "       0.50139472, 0.50662483, 0.50418411, 0.53103211, 0.53103211,\n",
            "       0.53626222, 0.54532778, 0.53242677, 0.54672244, 0.53974898,\n",
            "       0.57496517, 0.56729428, 0.57461649, 0.56450488, 0.56764296,\n",
            "       0.5770572 , 0.56938638, 0.525802  , 0.52440726, 0.51952583,\n",
            "       0.53103211, 0.53556485, 0.53626222, 0.52196655, 0.51011159,\n",
            "       0.50557885, 0.4961646 , 0.49442119, 0.49790795, 0.51115764,\n",
            "       0.50313806, 0.49965137, 0.52231523, 0.52894008, 0.52510463,\n",
            "       0.51708512, 0.52510463, 0.53242677, 0.53172947, 0.53417019,\n",
            "       0.52405858, 0.525802  , 0.5153417 , 0.51185494, 0.5237099 ,\n",
            "       0.51882847, 0.50627614, 0.49721059, 0.50418411, 0.50313806,\n",
            "       0.5045328 , 0.51011159, 0.51708512, 0.52405858, 0.52719666])]\n",
            "[0.5031380640790015, 0.5045327961721613, 0.5101115915358276, 0.517085118992654, 0.5240585799449935, 0.5271966606501166, 0.5456764618575654]\n",
            "\n"
          ],
          "name": "stdout"
        }
      ]
    },
    {
      "cell_type": "code",
      "metadata": {
        "id": "XaWpMRkrxHH9",
        "colab_type": "code",
        "colab": {}
      },
      "source": [
        "x_train, y_train = np.array(x_train), np.array(y_train)"
      ],
      "execution_count": 7,
      "outputs": []
    },
    {
      "cell_type": "code",
      "metadata": {
        "id": "pW1glF8BxOlO",
        "colab_type": "code",
        "colab": {
          "base_uri": "https://localhost:8080/",
          "height": 35
        },
        "outputId": "84a77f7f-e886-4833-ac65-fdd7fada6e5a"
      },
      "source": [
        "x_train = np.reshape(x_train, (x_train.shape[0], x_train.shape[1], 1))\n",
        "x_train.shape"
      ],
      "execution_count": 8,
      "outputs": [
        {
          "output_type": "execute_result",
          "data": {
            "text/plain": [
              "(1968, 60, 1)"
            ]
          },
          "metadata": {
            "tags": []
          },
          "execution_count": 8
        }
      ]
    },
    {
      "cell_type": "code",
      "metadata": {
        "id": "2BeAHs7FxT8J",
        "colab_type": "code",
        "colab": {
          "base_uri": "https://localhost:8080/",
          "height": 1000
        },
        "outputId": "c3721d0b-68b9-4b77-e935-b1fea368ec20"
      },
      "source": [
        "# строим модель LSTM\n",
        "\n",
        "model = Sequential()\n",
        "model.add(LSTM(32, return_sequences=True, input_shape= (x_train.shape[1], 1)))\n",
        "model.add(LSTM(64, return_sequences= True))\n",
        "model.add(Conv1D(10, 5, activation=\"linear\"))\n",
        "model.add(Conv1D(10, 5, activation=\"linear\"))\n",
        "model.add(Flatten())\n",
        "model.add(Dense(5, activation='linear'))\n",
        "model.add(Dense(1, activation='linear'))\n",
        "\n",
        "model.compile(loss=\"mse\", optimizer=\"adam\", metrics=['mae'])\n",
        "model.fit(x_train, y_train, batch_size=30, epochs=50, verbose = 1)"
      ],
      "execution_count": 9,
      "outputs": [
        {
          "output_type": "stream",
          "text": [
            "Epoch 1/50\n",
            "1968/1968 [==============================] - 5s 3ms/step - loss: 0.0086 - mae: 0.0623\n",
            "Epoch 2/50\n",
            "1968/1968 [==============================] - 4s 2ms/step - loss: 0.0028 - mae: 0.0373\n",
            "Epoch 3/50\n",
            "1968/1968 [==============================] - 4s 2ms/step - loss: 0.0022 - mae: 0.0328\n",
            "Epoch 4/50\n",
            "1968/1968 [==============================] - 4s 2ms/step - loss: 0.0016 - mae: 0.0282\n",
            "Epoch 5/50\n",
            "1968/1968 [==============================] - 4s 2ms/step - loss: 0.0016 - mae: 0.0280\n",
            "Epoch 6/50\n",
            "1968/1968 [==============================] - 4s 2ms/step - loss: 0.0013 - mae: 0.0259\n",
            "Epoch 7/50\n",
            "1968/1968 [==============================] - 4s 2ms/step - loss: 0.0015 - mae: 0.0270\n",
            "Epoch 8/50\n",
            "1968/1968 [==============================] - 5s 2ms/step - loss: 0.0013 - mae: 0.0258\n",
            "Epoch 9/50\n",
            "1968/1968 [==============================] - 4s 2ms/step - loss: 0.0010 - mae: 0.0229\n",
            "Epoch 10/50\n",
            "1968/1968 [==============================] - 5s 2ms/step - loss: 0.0012 - mae: 0.0244\n",
            "Epoch 11/50\n",
            "1968/1968 [==============================] - 5s 2ms/step - loss: 0.0011 - mae: 0.0227\n",
            "Epoch 12/50\n",
            "1968/1968 [==============================] - 5s 2ms/step - loss: 8.0885e-04 - mae: 0.0200\n",
            "Epoch 13/50\n",
            "1968/1968 [==============================] - 5s 2ms/step - loss: 8.2428e-04 - mae: 0.0199\n",
            "Epoch 14/50\n",
            "1968/1968 [==============================] - 4s 2ms/step - loss: 7.7510e-04 - mae: 0.0197\n",
            "Epoch 15/50\n",
            "1968/1968 [==============================] - 4s 2ms/step - loss: 8.3571e-04 - mae: 0.0204\n",
            "Epoch 16/50\n",
            "1968/1968 [==============================] - 4s 2ms/step - loss: 8.6720e-04 - mae: 0.0209\n",
            "Epoch 17/50\n",
            "1968/1968 [==============================] - 4s 2ms/step - loss: 6.6584e-04 - mae: 0.0179\n",
            "Epoch 18/50\n",
            "1968/1968 [==============================] - 4s 2ms/step - loss: 6.7632e-04 - mae: 0.0180\n",
            "Epoch 19/50\n",
            "1968/1968 [==============================] - 5s 2ms/step - loss: 6.5748e-04 - mae: 0.0181\n",
            "Epoch 20/50\n",
            "1968/1968 [==============================] - 4s 2ms/step - loss: 8.2725e-04 - mae: 0.0197\n",
            "Epoch 21/50\n",
            "1968/1968 [==============================] - 4s 2ms/step - loss: 6.8565e-04 - mae: 0.0183\n",
            "Epoch 22/50\n",
            "1968/1968 [==============================] - 4s 2ms/step - loss: 7.9898e-04 - mae: 0.0203\n",
            "Epoch 23/50\n",
            "1968/1968 [==============================] - 4s 2ms/step - loss: 6.0097e-04 - mae: 0.0168\n",
            "Epoch 24/50\n",
            "1968/1968 [==============================] - 5s 2ms/step - loss: 6.1900e-04 - mae: 0.0177\n",
            "Epoch 25/50\n",
            "1968/1968 [==============================] - 4s 2ms/step - loss: 5.5875e-04 - mae: 0.0164\n",
            "Epoch 26/50\n",
            "1968/1968 [==============================] - 4s 2ms/step - loss: 5.0508e-04 - mae: 0.0156\n",
            "Epoch 27/50\n",
            "1968/1968 [==============================] - 5s 2ms/step - loss: 4.7514e-04 - mae: 0.0157\n",
            "Epoch 28/50\n",
            "1968/1968 [==============================] - 4s 2ms/step - loss: 5.8705e-04 - mae: 0.0168\n",
            "Epoch 29/50\n",
            "1968/1968 [==============================] - 4s 2ms/step - loss: 6.0387e-04 - mae: 0.0175\n",
            "Epoch 30/50\n",
            "1968/1968 [==============================] - 4s 2ms/step - loss: 4.3736e-04 - mae: 0.0144\n",
            "Epoch 31/50\n",
            "1968/1968 [==============================] - 4s 2ms/step - loss: 4.7348e-04 - mae: 0.0150\n",
            "Epoch 32/50\n",
            "1968/1968 [==============================] - 4s 2ms/step - loss: 4.1371e-04 - mae: 0.0143\n",
            "Epoch 33/50\n",
            "1968/1968 [==============================] - 4s 2ms/step - loss: 3.7748e-04 - mae: 0.0137\n",
            "Epoch 34/50\n",
            "1968/1968 [==============================] - 4s 2ms/step - loss: 3.4199e-04 - mae: 0.0129\n",
            "Epoch 35/50\n",
            "1968/1968 [==============================] - 4s 2ms/step - loss: 3.5481e-04 - mae: 0.0131\n",
            "Epoch 36/50\n",
            "1968/1968 [==============================] - 4s 2ms/step - loss: 5.0713e-04 - mae: 0.0159\n",
            "Epoch 37/50\n",
            "1968/1968 [==============================] - 5s 2ms/step - loss: 3.6417e-04 - mae: 0.0137\n",
            "Epoch 38/50\n",
            "1968/1968 [==============================] - 4s 2ms/step - loss: 3.4811e-04 - mae: 0.0132\n",
            "Epoch 39/50\n",
            "1968/1968 [==============================] - 5s 2ms/step - loss: 4.0899e-04 - mae: 0.0143\n",
            "Epoch 40/50\n",
            "1968/1968 [==============================] - 4s 2ms/step - loss: 3.0980e-04 - mae: 0.0125\n",
            "Epoch 41/50\n",
            "1968/1968 [==============================] - 5s 2ms/step - loss: 3.1998e-04 - mae: 0.0124\n",
            "Epoch 42/50\n",
            "1968/1968 [==============================] - 4s 2ms/step - loss: 3.0455e-04 - mae: 0.0121\n",
            "Epoch 43/50\n",
            "1968/1968 [==============================] - 5s 2ms/step - loss: 2.7984e-04 - mae: 0.0120\n",
            "Epoch 44/50\n",
            "1968/1968 [==============================] - 4s 2ms/step - loss: 2.8125e-04 - mae: 0.0119\n",
            "Epoch 45/50\n",
            "1968/1968 [==============================] - 5s 2ms/step - loss: 2.6581e-04 - mae: 0.0115\n",
            "Epoch 46/50\n",
            "1968/1968 [==============================] - 5s 2ms/step - loss: 3.5984e-04 - mae: 0.0128\n",
            "Epoch 47/50\n",
            "1968/1968 [==============================] - 4s 2ms/step - loss: 4.2338e-04 - mae: 0.0149\n",
            "Epoch 48/50\n",
            "1968/1968 [==============================] - 5s 2ms/step - loss: 2.4973e-04 - mae: 0.0111\n",
            "Epoch 49/50\n",
            "1968/1968 [==============================] - 5s 2ms/step - loss: 2.7047e-04 - mae: 0.0116\n",
            "Epoch 50/50\n",
            "1968/1968 [==============================] - 5s 2ms/step - loss: 3.0245e-04 - mae: 0.0122\n"
          ],
          "name": "stdout"
        },
        {
          "output_type": "execute_result",
          "data": {
            "text/plain": [
              "<keras.callbacks.callbacks.History at 0x7f22a8a84f98>"
            ]
          },
          "metadata": {
            "tags": []
          },
          "execution_count": 9
        }
      ]
    },
    {
      "cell_type": "code",
      "metadata": {
        "id": "qk4roe8Uxzu2",
        "colab_type": "code",
        "colab": {}
      },
      "source": [
        "# создаем тестовый датасет\n",
        "\n",
        "test_data = scaled_data[training_data_len - 60: , :]\n",
        "\n",
        "x_test = []\n",
        "y_test = dataset[training_data_len:, :]\n",
        "for i in range(60, len(test_data)):\n",
        "    x_test.append(test_data[i-60:i, 0])"
      ],
      "execution_count": 12,
      "outputs": []
    },
    {
      "cell_type": "code",
      "metadata": {
        "id": "nbIjtXgxx4ZE",
        "colab_type": "code",
        "colab": {}
      },
      "source": [
        "x_test = np.array(x_test)"
      ],
      "execution_count": 13,
      "outputs": []
    },
    {
      "cell_type": "code",
      "metadata": {
        "id": "-4LXM4cDx6vc",
        "colab_type": "code",
        "colab": {}
      },
      "source": [
        "x_test = np.reshape(x_test, (x_test.shape[0], x_test.shape[1], 1 ))"
      ],
      "execution_count": 14,
      "outputs": []
    },
    {
      "cell_type": "code",
      "metadata": {
        "id": "GhKn-B0ax-8C",
        "colab_type": "code",
        "colab": {}
      },
      "source": [
        "predictions = model.predict(x_test)\n",
        "predictions = scaler.inverse_transform(predictions)"
      ],
      "execution_count": 15,
      "outputs": []
    },
    {
      "cell_type": "code",
      "metadata": {
        "id": "ndERzQecyE-r",
        "colab_type": "code",
        "colab": {
          "base_uri": "https://localhost:8080/",
          "height": 35
        },
        "outputId": "d6b5d3f8-eb6e-4c7e-c76f-caa3bfb3d929"
      },
      "source": [
        "rmse = np.sqrt(np.mean(((predictions - y_test) ** 2)))\n",
        "rmse"
      ],
      "execution_count": 16,
      "outputs": [
        {
          "output_type": "execute_result",
          "data": {
            "text/plain": [
              "0.21953593357570103"
            ]
          },
          "metadata": {
            "tags": []
          },
          "execution_count": 16
        }
      ]
    },
    {
      "cell_type": "code",
      "metadata": {
        "id": "6mhKJBrhyI3y",
        "colab_type": "code",
        "colab": {
          "base_uri": "https://localhost:8080/",
          "height": 622
        },
        "outputId": "8b8f3650-03ec-4171-c671-850170c85913"
      },
      "source": [
        "train = data[:training_data_len]\n",
        "valid = data[training_data_len:]\n",
        "valid['Predictions'] = predictions\n",
        "\n",
        "plt.figure(figsize=(16,8))\n",
        "plt.title('Модель')\n",
        "plt.xlabel('Периоды', fontsize=18)\n",
        "plt.ylabel('Цена закрытия, руб', fontsize=18)\n",
        "plt.plot(train['Close'])\n",
        "plt.plot(valid[['Close', 'Predictions']])\n",
        "plt.legend(['Train', 'Val', 'Predictions'], loc='lower right')\n",
        "plt.show()"
      ],
      "execution_count": 17,
      "outputs": [
        {
          "output_type": "stream",
          "text": [
            "/usr/local/lib/python3.6/dist-packages/ipykernel_launcher.py:3: SettingWithCopyWarning: \n",
            "A value is trying to be set on a copy of a slice from a DataFrame.\n",
            "Try using .loc[row_indexer,col_indexer] = value instead\n",
            "\n",
            "See the caveats in the documentation: https://pandas.pydata.org/pandas-docs/stable/user_guide/indexing.html#returning-a-view-versus-a-copy\n",
            "  This is separate from the ipykernel package so we can avoid doing imports until\n"
          ],
          "name": "stderr"
        },
        {
          "output_type": "display_data",
          "data": {
            "image/png": "[encoded data removed]",
            "text/plain": [
              "<Figure size 1152x576 with 1 Axes>"
            ]
          },
          "metadata": {
            "tags": [],
            "needs_background": "light"
          }
        }
      ]
    },
    {
      "cell_type": "code",
      "metadata": {
        "id": "5uwdbAs_yOHD",
        "colab_type": "code",
        "colab": {
          "base_uri": "https://localhost:8080/",
          "height": 446
        },
        "outputId": "41f6572d-1485-44f8-d01b-349c074156f2"
      },
      "source": [
        "valid"
      ],
      "execution_count": 18,
      "outputs": [
        {
          "output_type": "execute_result",
          "data": {
            "text/html": [
              "<div>\n",
              "<style scoped>\n",
              "    .dataframe tbody tr th:only-of-type {\n",
              "        vertical-align: middle;\n",
              "    }\n",
              "\n",
              "    .dataframe tbody tr th {\n",
              "        vertical-align: top;\n",
              "    }\n",
              "\n",
              "    .dataframe thead th {\n",
              "        text-align: right;\n",
              "    }\n",
              "</style>\n",
              "<table border=\"1\" class=\"dataframe\">\n",
              "  <thead>\n",
              "    <tr style=\"text-align: right;\">\n",
              "      <th></th>\n",
              "      <th>Close</th>\n",
              "      <th>Predictions</th>\n",
              "    </tr>\n",
              "    <tr>\n",
              "      <th>Date</th>\n",
              "      <th></th>\n",
              "      <th></th>\n",
              "    </tr>\n",
              "  </thead>\n",
              "  <tbody>\n",
              "    <tr>\n",
              "      <th>2018-07-23</th>\n",
              "      <td>4.37</td>\n",
              "      <td>4.103445</td>\n",
              "    </tr>\n",
              "    <tr>\n",
              "      <th>2018-07-24</th>\n",
              "      <td>4.37</td>\n",
              "      <td>4.150824</td>\n",
              "    </tr>\n",
              "    <tr>\n",
              "      <th>2018-07-25</th>\n",
              "      <td>4.42</td>\n",
              "      <td>4.184979</td>\n",
              "    </tr>\n",
              "    <tr>\n",
              "      <th>2018-07-26</th>\n",
              "      <td>4.36</td>\n",
              "      <td>4.186280</td>\n",
              "    </tr>\n",
              "    <tr>\n",
              "      <th>2018-07-27</th>\n",
              "      <td>4.37</td>\n",
              "      <td>4.175866</td>\n",
              "    </tr>\n",
              "    <tr>\n",
              "      <th>...</th>\n",
              "      <td>...</td>\n",
              "      <td>...</td>\n",
              "    </tr>\n",
              "    <tr>\n",
              "      <th>2020-07-20</th>\n",
              "      <td>5.25</td>\n",
              "      <td>4.957437</td>\n",
              "    </tr>\n",
              "    <tr>\n",
              "      <th>2020-07-21</th>\n",
              "      <td>5.26</td>\n",
              "      <td>5.035564</td>\n",
              "    </tr>\n",
              "    <tr>\n",
              "      <th>2020-07-22</th>\n",
              "      <td>5.24</td>\n",
              "      <td>5.100699</td>\n",
              "    </tr>\n",
              "    <tr>\n",
              "      <th>2020-07-23</th>\n",
              "      <td>5.15</td>\n",
              "      <td>5.103856</td>\n",
              "    </tr>\n",
              "    <tr>\n",
              "      <th>2020-07-24</th>\n",
              "      <td>5.16</td>\n",
              "      <td>5.055553</td>\n",
              "    </tr>\n",
              "  </tbody>\n",
              "</table>\n",
              "<p>506 rows × 2 columns</p>\n",
              "</div>"
            ],
            "text/plain": [
              "            Close  Predictions\n",
              "Date                          \n",
              "2018-07-23   4.37     4.103445\n",
              "2018-07-24   4.37     4.150824\n",
              "2018-07-25   4.42     4.184979\n",
              "2018-07-26   4.36     4.186280\n",
              "2018-07-27   4.37     4.175866\n",
              "...           ...          ...\n",
              "2020-07-20   5.25     4.957437\n",
              "2020-07-21   5.26     5.035564\n",
              "2020-07-22   5.24     5.100699\n",
              "2020-07-23   5.15     5.103856\n",
              "2020-07-24   5.16     5.055553\n",
              "\n",
              "[506 rows x 2 columns]"
            ]
          },
          "metadata": {
            "tags": []
          },
          "execution_count": 18
        }
      ]
    },
    {
      "cell_type": "markdown",
      "metadata": {
        "id": "M3gIIkufYHvp",
        "colab_type": "text"
      },
      "source": [
        "## Анализ:\n",
        "1. Результат хороший\n",
        "2. Среднеквадратичная ошибка приемлемая\n",
        "3. Переработал код из методички, немного упростив, в результате чего сеть стала работать намного шустрее\n",
        "4. Смотрел несколько сценариев, эксперементируя с глубиной и шириной сети:<br>\n",
        "a. Сначала менял параметры по одному, потом - в комплексе, оценивая силу воздействия каждого<br>\n",
        "b. Оптимизировал количество слоев (между 2-мя и 4-мя; оставил 2)<br>\n",
        "c. Эксперементировал с количеством ядер в каждом слое то наращивая, то уменьшая, то делая равным во всех слоях; в итоге оставил равным 32 в первом и 64 во втором<br>\n",
        "d. Подбирал batch size и количество эпох; остановился на 30 и 10 соответственно<br>\n",
        "e. Менял sequence generation; остановился на 60<br>\n",
        "5. Примечательно, что прогнозные цены немного меньше реальных; в мире финансов это хорошо, т.к. обеспечивается консервативный подход."
      ]
    }
  ]
}