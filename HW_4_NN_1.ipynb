{
  "nbformat": 4,
  "nbformat_minor": 0,
  "metadata": {
    "kernelspec": {
      "name": "python3",
      "display_name": "Python 3"
    },
    "language_info": {
      "codemirror_mode": {
        "name": "ipython",
        "version": 3
      },
      "file_extension": ".py",
      "mimetype": "text/x-python",
      "name": "python",
      "nbconvert_exporter": "python",
      "pygments_lexer": "ipython3",
      "version": "3.7.3"
    },
    "colab": {
      "name": "HW_4_NN_1",
      "provenance": [],
      "collapsed_sections": []
    },
    "accelerator": "GPU"
  },
  "cells": [
    {
      "cell_type": "markdown",
      "metadata": {
        "id": "GJqW1sHnm591",
        "colab_type": "text"
      },
      "source": [
        "# Введение в искусственные нейронные сети\n",
        "# Урок 4. Сверточные нейронные сети"
      ]
    },
    {
      "cell_type": "markdown",
      "metadata": {
        "id": "PHqn01Vpm5-c",
        "colab_type": "text"
      },
      "source": [
        "## Практическое задание\n",
        "\n",
        "Вариант 1. (простой)\n",
        "\n",
        "- обучить сверточную нейронную сеть на датасете fashion-mnist\n",
        "- оценить рост точности при увеличении ширины сети (больше ядер)\n",
        "- оценить рост точности при увеличении глубины сети (больше слоев)"
      ]
    },
    {
      "cell_type": "code",
      "metadata": {
        "id": "J41_-HF-dzD5",
        "colab_type": "code",
        "colab": {}
      },
      "source": [
        "from tensorflow.keras.models import Sequential\n",
        "from tensorflow.keras import models, layers\n",
        "import tensorflow.keras as keras\n",
        "from tensorflow.keras.datasets import fashion_mnist\n",
        "from tensorflow.keras.utils import to_categorical"
      ],
      "execution_count": 1,
      "outputs": []
    },
    {
      "cell_type": "code",
      "metadata": {
        "id": "LhUMJ-1hgV_9",
        "colab_type": "code",
        "colab": {}
      },
      "source": [
        "# Загрузка данных fashion_mnist\n",
        "(train_images, train_labels), (test_images, test_labels) = fashion_mnist.load_data()"
      ],
      "execution_count": 2,
      "outputs": []
    },
    {
      "cell_type": "code",
      "metadata": {
        "id": "7tNQhTFplxCn",
        "colab_type": "code",
        "colab": {}
      },
      "source": [
        "# обработка массивов для обучения и теста:\n",
        "x_train = train_images.astype('float32') / 255\n",
        "x_test = test_images.astype('float32') / 255\n",
        "\n",
        "y_train = to_categorical(train_labels, 10) \n",
        "y_test = to_categorical(test_labels, 10) \n",
        "\n",
        "x_train = x_train.reshape(x_train.shape[0], 28,28,1)\n",
        "x_test = x_test.reshape(x_test.shape[0], 28,28,1)"
      ],
      "execution_count": 3,
      "outputs": []
    },
    {
      "cell_type": "markdown",
      "metadata": {
        "id": "2rXuBeeMv-4l",
        "colab_type": "text"
      },
      "source": [
        "__Базовая сеть__"
      ]
    },
    {
      "cell_type": "code",
      "metadata": {
        "id": "edDnEp8crZSs",
        "colab_type": "code",
        "colab": {
          "base_uri": "https://localhost:8080/",
          "height": 69
        },
        "outputId": "b1a3943c-deb1-4b5a-cc5a-36cc10793196"
      },
      "source": [
        "model = Sequential()\n",
        "\n",
        "model.add(layers.Conv2D(6, kernel_size=(5, 5), strides=(1, 1), activation='tanh', input_shape=(28,28,1), padding=\"same\"))\n",
        "\n",
        "model.add(layers.AveragePooling2D(pool_size=(2, 2), strides=(1, 1), padding='valid'))\n",
        "\n",
        "model.add(layers.Conv2D(16, kernel_size=(5, 5), strides=(1, 1), activation='tanh', padding='valid'))\n",
        "\n",
        "model.add(layers.AveragePooling2D(pool_size=(2, 2), strides=(2, 2), padding='valid'))\n",
        "\n",
        "model.add(layers.Conv2D(120, kernel_size=(5, 5), strides=(1, 1), activation='tanh', padding='valid'))\n",
        "\n",
        "model.add(layers.Flatten())\n",
        "\n",
        "model.add(layers.Dense(84, activation='tanh'))\n",
        "\n",
        "model.add(layers.Dense(10, activation='softmax'))\n",
        "\n",
        "model.compile(loss=keras.losses.categorical_crossentropy, optimizer='SGD', metrics=[\"accuracy\"])\n",
        "\n",
        "hist = model.fit(x=x_train,y=y_train, epochs=1, batch_size=128, validation_data=(x_test, y_test), verbose=1)\n",
        "\n",
        "test_score = model.evaluate(x_test, y_test)\n",
        "print(\"Test loss {:.4f}, accuracy {:.2f}%\".format(test_score[0], test_score[1] * 100))"
      ],
      "execution_count": 4,
      "outputs": [
        {
          "output_type": "stream",
          "text": [
            "469/469 [==============================] - 3s 6ms/step - loss: 0.9327 - accuracy: 0.6798 - val_loss: 0.6877 - val_accuracy: 0.7399\n",
            "313/313 [==============================] - 1s 3ms/step - loss: 0.6877 - accuracy: 0.7399\n",
            "Test loss 0.6877, accuracy 73.99%\n"
          ],
          "name": "stdout"
        }
      ]
    },
    {
      "cell_type": "markdown",
      "metadata": {
        "id": "r57831onoRek",
        "colab_type": "text"
      },
      "source": [
        "Увеличим число ядер в базовой сети"
      ]
    },
    {
      "cell_type": "code",
      "metadata": {
        "colab_type": "code",
        "id": "Huf00A79yCZC",
        "colab": {
          "base_uri": "https://localhost:8080/",
          "height": 69
        },
        "outputId": "0d97e400-2e6d-4bf2-b5db-deccacab00d2"
      },
      "source": [
        "model = Sequential()\n",
        "\n",
        "model.add(layers.Conv2D(16, kernel_size=(5, 5), strides=(1, 1), activation='tanh', input_shape=(28,28,1), padding=\"same\"))\n",
        "\n",
        "model.add(layers.AveragePooling2D(pool_size=(2, 2), strides=(1, 1), padding='valid'))\n",
        "\n",
        "model.add(layers.Conv2D(32, kernel_size=(5, 5), strides=(1, 1), activation='tanh', padding='valid'))\n",
        "\n",
        "model.add(layers.AveragePooling2D(pool_size=(2, 2), strides=(2, 2), padding='valid'))\n",
        "\n",
        "model.add(layers.Conv2D(256, kernel_size=(5, 5), strides=(1, 1), activation='tanh', padding='valid'))\n",
        "\n",
        "model.add(layers.Flatten())\n",
        "\n",
        "model.add(layers.Dense(128, activation='tanh'))\n",
        "\n",
        "model.add(layers.Dense(10, activation='softmax'))\n",
        "\n",
        "model.compile(loss=keras.losses.categorical_crossentropy, optimizer='SGD', metrics=[\"accuracy\"])\n",
        "\n",
        "hist = model.fit(x=x_train,y=y_train, epochs=1, batch_size=128, validation_data=(x_test, y_test), verbose=1)\n",
        "\n",
        "test_score = model.evaluate(x_test, y_test)\n",
        "print(\"Test loss {:.4f}, accuracy {:.2f}%\".format(test_score[0], test_score[1] * 100))"
      ],
      "execution_count": 5,
      "outputs": [
        {
          "output_type": "stream",
          "text": [
            "469/469 [==============================] - 4s 9ms/step - loss: 0.8908 - accuracy: 0.6843 - val_loss: 0.6528 - val_accuracy: 0.7591\n",
            "313/313 [==============================] - 1s 3ms/step - loss: 0.6528 - accuracy: 0.7591\n",
            "Test loss 0.6528, accuracy 75.91%\n"
          ],
          "name": "stdout"
        }
      ]
    },
    {
      "cell_type": "markdown",
      "metadata": {
        "id": "dfWLtdv0ypH6",
        "colab_type": "text"
      },
      "source": [
        "Добавим сверточных слоев к базовой сети"
      ]
    },
    {
      "cell_type": "code",
      "metadata": {
        "id": "kc0GXKl7y8_C",
        "colab_type": "code",
        "colab": {
          "base_uri": "https://localhost:8080/",
          "height": 69
        },
        "outputId": "f6edb1e7-de40-4c56-e9fa-f31d2b40938f"
      },
      "source": [
        "model = Sequential()\n",
        "\n",
        "model.add(layers.Conv2D(16, kernel_size=(5, 5), strides=(1, 1), activation='tanh', input_shape=(28,28,1), padding=\"same\"))\n",
        "model.add(layers.Conv2D(32, kernel_size=(5, 5), strides=(1, 1), activation='tanh', input_shape=(28,28,1), padding=\"same\"))\n",
        "\n",
        "model.add(layers.AveragePooling2D(pool_size=(2, 2), strides=(1, 1), padding='valid'))\n",
        "\n",
        "model.add(layers.Conv2D(64, kernel_size=(5, 5), strides=(1, 1), activation='tanh', padding='valid'))\n",
        "model.add(layers.Conv2D(128, kernel_size=(5, 5), strides=(1, 1), activation='tanh', padding='valid'))\n",
        "\n",
        "model.add(layers.AveragePooling2D(pool_size=(2, 2), strides=(2, 2), padding='valid'))\n",
        "\n",
        "model.add(layers.Conv2D(256, kernel_size=(5, 5), strides=(1, 1), activation='tanh', padding='valid'))\n",
        "model.add(layers.Conv2D(512, kernel_size=(5, 5), strides=(1, 1), activation='tanh', padding='valid'))\n",
        "\n",
        "model.add(layers.Flatten())\n",
        "\n",
        "model.add(layers.Dense(128, activation='tanh'))\n",
        "\n",
        "model.add(layers.Dense(10, activation='softmax'))\n",
        "\n",
        "model.compile(loss=keras.losses.categorical_crossentropy, optimizer='SGD', metrics=[\"accuracy\"])\n",
        "\n",
        "hist = model.fit(x=x_train,y=y_train, epochs=1, batch_size=128, validation_data=(x_test, y_test), verbose=1)\n",
        "\n",
        "test_score = model.evaluate(x_test, y_test)\n",
        "print(\"Test loss {:.4f}, accuracy {:.2f}%\".format(test_score[0], test_score[1] * 100))"
      ],
      "execution_count": 6,
      "outputs": [
        {
          "output_type": "stream",
          "text": [
            "469/469 [==============================] - 16s 34ms/step - loss: 0.8057 - accuracy: 0.7099 - val_loss: 0.6320 - val_accuracy: 0.7628\n",
            "313/313 [==============================] - 2s 5ms/step - loss: 0.6320 - accuracy: 0.7628\n",
            "Test loss 0.6320, accuracy 76.28%\n"
          ],
          "name": "stdout"
        }
      ]
    },
    {
      "cell_type": "markdown",
      "metadata": {
        "colab_type": "text",
        "id": "Iwt-a2L7dqUz"
      },
      "source": [
        "## Выводы\n",
        "\n",
        "1) Увеличения числа ядер незначительно улучшает результат.\n",
        "\n",
        "2) Увеличение глубины сети результат улучшает более существенно."
      ]
    }
  ]
}